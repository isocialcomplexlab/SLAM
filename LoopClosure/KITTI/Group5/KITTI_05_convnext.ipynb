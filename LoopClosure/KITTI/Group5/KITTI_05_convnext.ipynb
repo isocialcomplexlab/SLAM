{
  "nbformat": 4,
  "nbformat_minor": 0,
  "metadata": {
    "colab": {
      "provenance": []
    },
    "kernelspec": {
      "name": "python3",
      "display_name": "Python 3"
    },
    "language_info": {
      "name": "python"
    },
    "accelerator": "GPU"
  },
  "cells": [
    {
      "cell_type": "code",
      "execution_count": null,
      "metadata": {
        "id": "rCdjG82GhHdR"
      },
      "outputs": [],
      "source": [
        "from torch import nn\n",
        "import torch.nn.functional as F\n",
        "import numpy as np\n",
        "import torchvision\n",
        "import torchvision.models as models\n",
        "from torchvision import datasets\n",
        "import torchvision.transforms as transforms\n",
        "from torchvision.transforms.functional import crop\n",
        "import cv2\n",
        "import matplotlib.pyplot as plt\n",
        "import time\n",
        "import torch"
      ]
    },
    {
      "cell_type": "code",
      "source": [
        "def crop_r(image):\n",
        "    return crop(image, 4, 124, 124, 124)\n",
        "    \n",
        "def crop_l(image):\n",
        "    return crop(image, 4, 4, 124, 124)  \n",
        "    \n",
        "transform_right = transforms.Compose(\n",
        "    [\n",
        "        transforms.Resize((256,256)),\n",
        "        #transforms.RandomRotation(10),\n",
        "        transforms.Lambda(crop_r),\n",
        "        transforms.ToTensor(),\n",
        "        transforms.Normalize((0.36, 0.36, 0.36), (0.28, 0.28, 0.28))\n",
        "    ])\n",
        "transform_left = transforms.Compose(\n",
        "    [\n",
        "        transforms.Resize((256,256)),\n",
        "        #transforms.RandomRotation(10),\n",
        "        transforms.Lambda(crop_l),\n",
        "        transforms.ToTensor(),\n",
        "        transforms.Normalize((0.36, 0.36, 0.36), (0.28, 0.28, 0.28))\n",
        "    ])"
      ],
      "metadata": {
        "id": "iC0-OCRxl3wz"
      },
      "execution_count": null,
      "outputs": []
    },
    {
      "cell_type": "code",
      "source": [
        "train_path = '/content/drive/MyDrive/Datasets/KITTI/05'\n",
        "batch_size = 1\n",
        "\n",
        "train_r = datasets.ImageFolder(train_path, transform_right)\n",
        "train_l = datasets.ImageFolder(train_path, transform_left)\n",
        "\n",
        "train_loader_r = torch.utils.data.DataLoader(train_r, batch_size)\n",
        "train_loader_l = torch.utils.data.DataLoader(train_l, batch_size)\n"
      ],
      "metadata": {
        "id": "5KRqVsyjl4gm"
      },
      "execution_count": null,
      "outputs": []
    },
    {
      "cell_type": "code",
      "source": [
        "weights = models.ConvNeXt_Base_Weights\n",
        "model = models.convnext_base(weights=weights)"
      ],
      "metadata": {
        "colab": {
          "base_uri": "https://localhost:8080/"
        },
        "id": "tXtJvtc_l5E3",
        "outputId": "25d42be9-4ac2-4f6c-e6c4-da51f8b446f4"
      },
      "execution_count": null,
      "outputs": [
        {
          "output_type": "stream",
          "name": "stderr",
          "text": [
            "/usr/local/lib/python3.8/dist-packages/torchvision/models/_utils.py:223: UserWarning: Arguments other than a weight enum or `None` for 'weights' are deprecated since 0.13 and may be removed in the future. The current behavior is equivalent to passing `weights=ConvNeXt_Base_Weights.IMAGENET1K_V1`. You can also use `weights=ConvNeXt_Base_Weights.DEFAULT` to get the most up-to-date weights.\n",
            "  warnings.warn(msg)\n"
          ]
        }
      ]
    },
    {
      "cell_type": "code",
      "source": [
        "output_ = []\n",
        "inicio = 5100\n",
        "inicio1 = 5101\n",
        "fim = 5120\n",
        "nome_tensor = 103"
      ],
      "metadata": {
        "id": "e0U1IQHJmX_8"
      },
      "execution_count": null,
      "outputs": []
    },
    {
      "cell_type": "code",
      "source": [
        "for i, data in enumerate(train_loader_r):\n",
        "    if i > inicio:\n",
        "        inputs, labels = data\n",
        "        outputs = model(inputs)\n",
        "        output_.append(outputs)\n",
        "        if i > fim:\n",
        "            break"
      ],
      "metadata": {
        "id": "V3pKkJAOw-Kf"
      },
      "execution_count": null,
      "outputs": []
    },
    {
      "cell_type": "code",
      "source": [
        "for i,data in enumerate(train_loader_l):\n",
        "    if i > inicio:\n",
        "        inputs, labels = data\n",
        "        outputs = model(inputs)\n",
        "        output_[i-inicio1] = torch.cat((output_[i-inicio1], outputs), 1)\n",
        "        if i > fim:\n",
        "            break\n",
        "out_path = '/content/drive/MyDrive/Datasets/tensors_kitti_05_convnext/tensors'+str(nome_tensor)+'.pt'\n",
        "torch.save(output_,out_path)            "
      ],
      "metadata": {
        "id": "9seqFZXOgUXm"
      },
      "execution_count": null,
      "outputs": []
    },
    {
      "cell_type": "code",
      "source": [
        "def match(cam_img, db_img, dist_limit):\n",
        "    distance = torch.cdist(cam_img, db_img, p=2)\n",
        "    max_dist = torch.max(distance)\n",
        "    if max_dist <= dist_limit:\n",
        "        return True\n",
        "    \n",
        "    return False"
      ],
      "metadata": {
        "id": "0KXDBHENmYex"
      },
      "execution_count": null,
      "outputs": []
    },
    {
      "cell_type": "code",
      "source": [
        "def belief_generation(db, descriptor):\n",
        "    belief = []\n",
        "    lp = 0\n",
        "    for d in db:\n",
        "        bg = match(descriptor, d, 24)\n",
        "        if bg:\n",
        "            belief.append(1)\n",
        "        else:\n",
        "            belief = []\n",
        "        if len(belief) >= 3:\n",
        "            print('loop')\n",
        "            print(d)\n",
        "            lp += 1\n",
        "    return lp"
      ],
      "metadata": {
        "id": "hwTJfgkNv0Am"
      },
      "execution_count": null,
      "outputs": []
    },
    {
      "cell_type": "code",
      "source": [
        "database = [database1,database2,database3,database4,database5,database6,database7,database8,database9,database10,\n",
        "            database11,database12,database13,database14,database15,database16,database17,database18,database19,database20,\n",
        "            database21,database22,database23,database24,database25,database26,database27,database28,database29,database30,\n",
        "            database31,database32,database33,database34,database35,database36,database37,database38,database39,database40,\n",
        "            database41,database42,database43,database44,database45,database46,database47,database48,database49,database50,\n",
        "            database51,database52,database53,database54,database55,database56,database57,database58,database59,database60,\n",
        "            database61,database62,database63,database64,database65,database66,database67,database68,database69,database70,\n",
        "            database71,database72,database73,database74,database75,database76,database77,database78,database79,database80,\n",
        "            database81,database82,database83,database84,database85,database86,database87,database88,database89,database90,\n",
        "            database91,database92,database93,database94,database95,database96,database97,database98,database99,database100,\n",
        "            database101,database102,database103]\n",
        "\n",
        "d = []"
      ],
      "metadata": {
        "id": "QQLOg3uhNmOw"
      },
      "execution_count": null,
      "outputs": []
    },
    {
      "cell_type": "code",
      "source": [
        "co = 0\n",
        "for bg in database:\n",
        "  co += 1\n",
        "  for i,data in enumerate(bg):\n",
        "    if i < 3:\n",
        "      d.append(data)\n",
        "    else:\n",
        "      loop_ = belief_generation(d, data)\n",
        "      with open('/content/drive/MyDrive/Datasets/KITTI/loop_kitti_05_convnext.txt', 'a') as txt_file:\n",
        "        if loop_ > 0:\n",
        "          txt_file.write('Found loop')\n",
        "          image_number = (co*50)+i\n",
        "          txt_file.write('\\n image: '+str(image_number))\n",
        "          txt_file.write('\\n')\n",
        "        else:\n",
        "          d.append(data)\n",
        "\n"
      ],
      "metadata": {
        "id": "NCZ2bPr6yd4r",
        "colab": {
          "base_uri": "https://localhost:8080/"
        },
        "outputId": "dcabdbad-0010-4b1e-a531-5b4ac4b7d74c"
      },
      "execution_count": null,
      "outputs": [
        {
          "output_type": "stream",
          "name": "stdout",
          "text": [
            "loop\n",
            "tensor([[ 0.0878,  0.1562, -1.0967,  ..., -0.7275, -0.5303, -0.8444]],\n",
            "       requires_grad=True)\n",
            "loop\n",
            "tensor([[-0.4618, -0.9187, -1.3345,  ..., -1.0229, -0.4297, -0.4461]],\n",
            "       requires_grad=True)\n",
            "loop\n",
            "tensor([[-0.2052, -0.4672, -0.9405,  ..., -1.1794,  0.2344, -0.7487]],\n",
            "       requires_grad=True)\n",
            "loop\n",
            "tensor([[ 0.2397, -0.5293, -0.6098,  ..., -1.0805,  0.5278, -0.9363]],\n",
            "       requires_grad=True)\n",
            "loop\n",
            "tensor([[-0.0560,  0.1984,  0.4057,  ..., -0.5649,  0.7001,  0.5874]],\n",
            "       requires_grad=True)\n",
            "loop\n",
            "tensor([[ 0.3666, -0.1867, -0.0319,  ..., -1.2112,  0.8703,  0.1300]],\n",
            "       requires_grad=True)\n",
            "loop\n",
            "tensor([[ 0.2727, -0.6062, -0.5551,  ..., -0.2856,  0.3458,  0.1284]],\n",
            "       requires_grad=True)\n",
            "loop\n",
            "tensor([[ 0.4676, -0.1005, -0.3025,  ..., -0.6862,  0.2557, -0.6065]],\n",
            "       requires_grad=True)\n",
            "loop\n",
            "tensor([[ 0.3077, -0.2546, -0.1724,  ..., -0.7568,  0.6259, -0.4707]],\n",
            "       requires_grad=True)\n",
            "loop\n",
            "tensor([[ 5.2319e-01, -4.1078e-01,  1.7912e-04,  ..., -1.0534e+00,\n",
            "          3.9842e-01,  3.4164e-01]], requires_grad=True)\n",
            "loop\n",
            "tensor([[ 5.2319e-01, -4.1078e-01,  1.7912e-04,  ..., -1.0534e+00,\n",
            "          3.9842e-01,  3.4164e-01]], requires_grad=True)\n",
            "loop\n",
            "tensor([[ 0.4730, -0.0347, -0.3804,  ..., -1.2272,  0.1210,  0.3241]],\n",
            "       requires_grad=True)\n",
            "loop\n",
            "tensor([[-0.3680, -0.9928, -0.1878,  ..., -0.6501,  3.3556,  0.0858]],\n",
            "       requires_grad=True)\n",
            "loop\n",
            "tensor([[-0.8057, -0.7004, -0.9913,  ..., -0.8542,  0.7426, -0.0147]],\n",
            "       requires_grad=True)\n",
            "loop\n",
            "tensor([[-0.9117, -1.2186, -0.9855,  ..., -0.3848,  0.4206, -0.0341]],\n",
            "       requires_grad=True)\n",
            "loop\n",
            "tensor([[-0.5128, -0.3457, -0.3823,  ..., -1.1783,  0.6161,  0.3806]],\n",
            "       requires_grad=True)\n",
            "loop\n",
            "tensor([[-0.7241, -0.4121, -1.3993,  ..., -0.5896, -0.2255, -1.1216]],\n",
            "       requires_grad=True)\n",
            "loop\n",
            "tensor([[-0.4513, -1.4156, -0.4070,  ..., -0.7329,  0.2792, -0.4903]],\n",
            "       requires_grad=True)\n",
            "loop\n",
            "tensor([[-0.5619, -0.8211, -0.4851,  ..., -0.6712, -0.3186, -0.8232]],\n",
            "       requires_grad=True)\n",
            "loop\n",
            "tensor([[-0.1358, -0.1937, -0.6892,  ..., -0.6401,  0.7396,  0.1714]],\n",
            "       requires_grad=True)\n",
            "loop\n",
            "tensor([[-0.1106, -0.2032, -0.1299,  ..., -0.1403,  1.0572, -0.0565]],\n",
            "       requires_grad=True)\n",
            "loop\n",
            "tensor([[ 0.0849, -0.0924, -1.3450,  ..., -0.4850,  0.0827, -0.8822]],\n",
            "       requires_grad=True)\n",
            "loop\n",
            "tensor([[ 0.1373, -0.2917, -1.6036,  ..., -1.1156,  0.6313, -0.5204]],\n",
            "       requires_grad=True)\n",
            "loop\n",
            "tensor([[ 0.0878,  0.1562, -1.0967,  ..., -0.7275, -0.5303, -0.8444]],\n",
            "       requires_grad=True)\n",
            "loop\n",
            "tensor([[ 0.0878,  0.1562, -1.0967,  ..., -0.7275, -0.5303, -0.8444]],\n",
            "       requires_grad=True)\n",
            "loop\n",
            "tensor([[-0.4618, -0.9187, -1.3345,  ..., -1.0229, -0.4297, -0.4461]],\n",
            "       requires_grad=True)\n",
            "loop\n",
            "tensor([[-0.2052, -0.4672, -0.9405,  ..., -1.1794,  0.2344, -0.7487]],\n",
            "       requires_grad=True)\n",
            "loop\n",
            "tensor([[-0.1201, -0.3263, -0.3855,  ..., -0.3562,  1.0254,  0.4400]],\n",
            "       requires_grad=True)\n",
            "loop\n",
            "tensor([[-0.4332,  0.2391, -0.1629,  ..., -0.5615,  0.9396, -0.0948]],\n",
            "       requires_grad=True)\n",
            "loop\n",
            "tensor([[-1.0528, -0.6260, -0.6367,  ..., -1.0098,  0.9106,  0.4333]],\n",
            "       requires_grad=True)\n",
            "loop\n",
            "tensor([[-0.4332,  0.2391, -0.1629,  ..., -0.5615,  0.9396, -0.0948]],\n",
            "       requires_grad=True)\n",
            "loop\n",
            "tensor([[ 0.1763, -0.7674, -0.4312,  ..., -0.3609,  1.8640, -0.5163]],\n",
            "       requires_grad=True)\n",
            "loop\n",
            "tensor([[-0.4332,  0.2391, -0.1629,  ..., -0.5615,  0.9396, -0.0948]],\n",
            "       requires_grad=True)\n",
            "loop\n",
            "tensor([[-1.0528, -0.6260, -0.6367,  ..., -1.0098,  0.9106,  0.4333]],\n",
            "       requires_grad=True)\n",
            "loop\n",
            "tensor([[-0.6139,  0.0685, -0.0130,  ..., -0.2868,  1.3709, -0.8748]],\n",
            "       requires_grad=True)\n",
            "loop\n",
            "tensor([[-0.3641, -0.6312, -0.3580,  ..., -0.8936,  0.6352, -0.2242]],\n",
            "       requires_grad=True)\n",
            "loop\n",
            "tensor([[ 0.1763, -0.7674, -0.4312,  ..., -0.3609,  1.8640, -0.5163]],\n",
            "       requires_grad=True)\n",
            "loop\n",
            "tensor([[-0.6011, -0.5430, -0.8664,  ..., -0.7322,  0.4976, -0.8248]],\n",
            "       requires_grad=True)\n",
            "loop\n",
            "tensor([[-0.8056,  0.1061, -0.9806,  ..., -0.6325,  0.5648, -0.8603]],\n",
            "       requires_grad=True)\n",
            "loop\n",
            "tensor([[-0.3411,  0.3119, -0.5287,  ..., -0.8188,  0.0559, -1.1237]],\n",
            "       requires_grad=True)\n",
            "loop\n",
            "tensor([[-0.5609, -1.1054,  0.0095,  ..., -1.1605,  3.1617, -0.9227]],\n",
            "       requires_grad=True)\n",
            "loop\n",
            "tensor([[-0.3680, -0.9928, -0.1878,  ..., -0.6501,  3.3556,  0.0858]],\n",
            "       requires_grad=True)\n",
            "loop\n",
            "tensor([[-0.4645, -0.6200, -0.0598,  ..., -0.7217,  2.1072, -0.1978]],\n",
            "       requires_grad=True)\n",
            "loop\n",
            "tensor([[-0.5241, -0.6414, -0.0643,  ..., -0.7992,  1.4504, -0.1657]],\n",
            "       requires_grad=True)\n",
            "loop\n",
            "tensor([[-0.9963, -0.5432, -0.5699,  ..., -0.6463,  1.1767,  0.1015]],\n",
            "       requires_grad=True)\n",
            "loop\n",
            "tensor([[-0.9963, -0.5432, -0.5699,  ..., -0.6463,  1.1767,  0.1015]],\n",
            "       requires_grad=True)\n",
            "loop\n",
            "tensor([[-0.9846, -0.4706, -1.1534,  ..., -0.4508,  1.4841,  0.0505]],\n",
            "       requires_grad=True)\n",
            "loop\n",
            "tensor([[-0.7192, -0.5329, -0.6109,  ..., -0.7723,  1.2308, -0.7711]],\n",
            "       requires_grad=True)\n",
            "loop\n",
            "tensor([[-0.4513, -1.4156, -0.4070,  ..., -0.7329,  0.2792, -0.4903]],\n",
            "       requires_grad=True)\n",
            "loop\n",
            "tensor([[-0.5619, -0.8211, -0.4851,  ..., -0.6712, -0.3186, -0.8232]],\n",
            "       requires_grad=True)\n",
            "loop\n",
            "tensor([[-0.4513, -1.4156, -0.4070,  ..., -0.7329,  0.2792, -0.4903]],\n",
            "       requires_grad=True)\n",
            "loop\n",
            "tensor([[-0.5619, -0.8211, -0.4851,  ..., -0.6712, -0.3186, -0.8232]],\n",
            "       requires_grad=True)\n",
            "loop\n",
            "tensor([[-0.5227, -0.3783, -0.3461,  ..., -0.4119,  0.1140, -0.7981]],\n",
            "       requires_grad=True)\n",
            "loop\n",
            "tensor([[ 0.1601, -0.9395, -0.9769,  ..., -1.2548,  0.4539, -0.7455]],\n",
            "       requires_grad=True)\n",
            "loop\n",
            "tensor([[-0.8354, -0.1349, -0.4008,  ..., -0.6875,  0.3694,  0.0487]],\n",
            "       requires_grad=True)\n",
            "loop\n",
            "tensor([[-0.9594,  0.0656, -0.3867,  ..., -0.9234,  1.0283, -0.5812]],\n",
            "       requires_grad=True)\n",
            "loop\n",
            "tensor([[ 0.6539, -0.1911, -0.2186,  ..., -0.2409,  1.2215,  0.0518]],\n",
            "       requires_grad=True)\n",
            "loop\n",
            "tensor([[ 0.4563, -0.0870, -0.0571,  ..., -0.9279,  0.8402, -0.4471]],\n",
            "       requires_grad=True)\n",
            "loop\n",
            "tensor([[ 0.1231, -0.2767, -0.2455,  ..., -1.0686,  0.6760,  0.4953]],\n",
            "       requires_grad=True)\n",
            "loop\n",
            "tensor([[ 0.3666, -0.1867, -0.0319,  ..., -1.2112,  0.8703,  0.1300]],\n",
            "       requires_grad=True)\n",
            "loop\n",
            "tensor([[-0.0560,  0.1984,  0.4057,  ..., -0.5649,  0.7001,  0.5874]],\n",
            "       requires_grad=True)\n",
            "loop\n",
            "tensor([[ 0.1231, -0.2767, -0.2455,  ..., -1.0686,  0.6760,  0.4953]],\n",
            "       requires_grad=True)\n",
            "loop\n",
            "tensor([[ 0.6691, -0.4651, -0.3893,  ..., -0.9588,  0.9452, -1.0343]],\n",
            "       requires_grad=True)\n",
            "loop\n",
            "tensor([[ 0.3666, -0.1867, -0.0319,  ..., -1.2112,  0.8703,  0.1300]],\n",
            "       requires_grad=True)\n",
            "loop\n",
            "tensor([[-0.0560,  0.1984,  0.4057,  ..., -0.5649,  0.7001,  0.5874]],\n",
            "       requires_grad=True)\n",
            "loop\n",
            "tensor([[ 0.1231, -0.2767, -0.2455,  ..., -1.0686,  0.6760,  0.4953]],\n",
            "       requires_grad=True)\n",
            "loop\n",
            "tensor([[ 0.3666, -0.1867, -0.0319,  ..., -1.2112,  0.8703,  0.1300]],\n",
            "       requires_grad=True)\n",
            "loop\n",
            "tensor([[-0.0560,  0.1984,  0.4057,  ..., -0.5649,  0.7001,  0.5874]],\n",
            "       requires_grad=True)\n",
            "loop\n",
            "tensor([[ 0.1231, -0.2767, -0.2455,  ..., -1.0686,  0.6760,  0.4953]],\n",
            "       requires_grad=True)\n",
            "loop\n",
            "tensor([[ 5.2319e-01, -4.1078e-01,  1.7912e-04,  ..., -1.0534e+00,\n",
            "          3.9842e-01,  3.4164e-01]], requires_grad=True)\n",
            "loop\n",
            "tensor([[ 0.3432, -0.2637,  0.3114,  ..., -0.8015,  0.1193,  0.2959]],\n",
            "       requires_grad=True)\n",
            "loop\n",
            "tensor([[ 5.2319e-01, -4.1078e-01,  1.7912e-04,  ..., -1.0534e+00,\n",
            "          3.9842e-01,  3.4164e-01]], requires_grad=True)\n",
            "loop\n",
            "tensor([[ 0.3432, -0.2637,  0.3114,  ..., -0.8015,  0.1193,  0.2959]],\n",
            "       requires_grad=True)\n",
            "loop\n",
            "tensor([[ 0.3010, -0.3945, -0.4357,  ..., -1.2408,  0.0967,  0.2683]],\n",
            "       requires_grad=True)\n",
            "loop\n",
            "tensor([[ 5.2319e-01, -4.1078e-01,  1.7912e-04,  ..., -1.0534e+00,\n",
            "          3.9842e-01,  3.4164e-01]], requires_grad=True)\n",
            "loop\n",
            "tensor([[ 5.2319e-01, -4.1078e-01,  1.7912e-04,  ..., -1.0534e+00,\n",
            "          3.9842e-01,  3.4164e-01]], requires_grad=True)\n",
            "loop\n",
            "tensor([[ 5.2319e-01, -4.1078e-01,  1.7912e-04,  ..., -1.0534e+00,\n",
            "          3.9842e-01,  3.4164e-01]], requires_grad=True)\n",
            "loop\n",
            "tensor([[ 0.2201, -0.1136, -0.5228,  ..., -0.6912,  0.5111,  0.4537]],\n",
            "       requires_grad=True)\n",
            "loop\n",
            "tensor([[ 0.5679, -0.5250, -0.1650,  ..., -0.5165,  1.0472,  0.1137]],\n",
            "       requires_grad=True)\n",
            "loop\n",
            "tensor([[ 5.2319e-01, -4.1078e-01,  1.7912e-04,  ..., -1.0534e+00,\n",
            "          3.9842e-01,  3.4164e-01]], requires_grad=True)\n",
            "loop\n",
            "tensor([[ 0.3432, -0.2637,  0.3114,  ..., -0.8015,  0.1193,  0.2959]],\n",
            "       requires_grad=True)\n",
            "loop\n",
            "tensor([[ 0.3010, -0.3945, -0.4357,  ..., -1.2408,  0.0967,  0.2683]],\n",
            "       requires_grad=True)\n",
            "loop\n",
            "tensor([[ 5.2319e-01, -4.1078e-01,  1.7912e-04,  ..., -1.0534e+00,\n",
            "          3.9842e-01,  3.4164e-01]], requires_grad=True)\n",
            "loop\n",
            "tensor([[-0.1112,  0.1393, -0.5037,  ..., -0.7647,  0.7177,  0.7463]],\n",
            "       requires_grad=True)\n",
            "loop\n",
            "tensor([[-1.4834e-01, -8.2652e-01, -9.8951e-01,  ...,  9.6099e-04,\n",
            "          2.0052e+00, -7.3934e-01]], requires_grad=True)\n",
            "loop\n",
            "tensor([[-0.2633, -0.6110,  0.2686,  ..., -1.4515,  1.0568, -0.3346]],\n",
            "       requires_grad=True)\n",
            "loop\n",
            "tensor([[-0.6561, -0.4443, -0.1256,  ..., -0.6482,  1.1076, -0.5222]],\n",
            "       requires_grad=True)\n",
            "loop\n",
            "tensor([[-0.6441, -0.2632, -0.6799,  ..., -0.4852,  1.2506,  0.3655]],\n",
            "       requires_grad=True)\n",
            "loop\n",
            "tensor([[-0.7192, -0.5329, -0.6109,  ..., -0.7723,  1.2308, -0.7711]],\n",
            "       requires_grad=True)\n",
            "loop\n",
            "tensor([[-0.8329, -0.4902, -1.0774,  ..., -0.6764,  0.1755, -0.9524]],\n",
            "       requires_grad=True)\n",
            "loop\n",
            "tensor([[-0.0465, -0.5052, -1.7501,  ..., -0.3476,  1.6139,  0.2475]],\n",
            "       requires_grad=True)\n",
            "loop\n",
            "tensor([[-0.0945, -0.3354, -0.8045,  ..., -0.7317,  0.7289,  0.2657]],\n",
            "       requires_grad=True)\n",
            "loop\n",
            "tensor([[-0.2220, -0.7397,  0.0904,  ..., -0.2203,  0.1080, -0.4959]],\n",
            "       requires_grad=True)\n",
            "loop\n",
            "tensor([[-0.7548, -0.2418, -0.2863,  ..., -0.4838,  0.2586,  0.1076]],\n",
            "       requires_grad=True)\n",
            "loop\n",
            "tensor([[-0.4001, -0.7587, -0.4538,  ..., -0.4910, -0.2547, -0.3967]],\n",
            "       requires_grad=True)\n",
            "loop\n",
            "tensor([[-0.1574, -0.2392, -0.7327,  ..., -0.6976,  0.3417, -0.9532]],\n",
            "       requires_grad=True)\n",
            "loop\n",
            "tensor([[-0.7578, -0.0918, -1.0886,  ..., -0.5210,  1.0657, -0.3462]],\n",
            "       requires_grad=True)\n",
            "loop\n",
            "tensor([[-0.7578, -0.0918, -1.0886,  ..., -0.5210,  1.0657, -0.3462]],\n",
            "       requires_grad=True)\n",
            "loop\n",
            "tensor([[ 0.5253, -0.7045, -0.7629,  ..., -0.5769,  1.0784, -1.2048]],\n",
            "       requires_grad=True)\n"
          ]
        }
      ]
    },
    {
      "cell_type": "code",
      "source": [
        "import pandas as pd\n",
        "\n",
        "df = pd.read_csv('/content/drive/MyDrive/Datasets/metricas/kitti_05_convnext.csv')\n"
      ],
      "metadata": {
        "id": "L6s2ofCe3Pko"
      },
      "execution_count": null,
      "outputs": []
    },
    {
      "cell_type": "code",
      "source": [
        "from sklearn.metrics import RocCurveDisplay\n",
        "import matplotlib.pyplot as plt\n",
        "\n",
        "\n",
        "RocCurveDisplay.from_predictions(df['actual'], df['pred'])\n",
        "plt.show()"
      ],
      "metadata": {
        "colab": {
          "base_uri": "https://localhost:8080/",
          "height": 279
        },
        "id": "VQLNyGUP3jdt",
        "outputId": "15e7b1c0-009a-445a-bae2-472477c4b8e0"
      },
      "execution_count": null,
      "outputs": [
        {
          "output_type": "display_data",
          "data": {
            "text/plain": [
              "<Figure size 432x288 with 1 Axes>"
            ],
            "image/png": "[encoded data removed]"
          },
          "metadata": {
            "needs_background": "light"
          }
        }
      ]
    },
    {
      "cell_type": "code",
      "source": [
        "from sklearn.metrics import roc_auc_score, accuracy_score, f1_score\n",
        "\n",
        "\n",
        "print('AUC: ',roc_auc_score(df['actual'], df['pred']))\n",
        "print('Accuracy: ',accuracy_score(df['actual'], df['pred']))\n",
        "print('f1: ',f1_score(df['actual'], df['pred']))\n"
      ],
      "metadata": {
        "colab": {
          "base_uri": "https://localhost:8080/"
        },
        "id": "BpWMMi8R5PcH",
        "outputId": "63c47719-05a0-41ad-bce3-031cf30db549"
      },
      "execution_count": null,
      "outputs": [
        {
          "output_type": "stream",
          "name": "stdout",
          "text": [
            "AUC:  0.5137980971687673\n",
            "Accuracy:  0.8685258964143426\n",
            "f1:  0.07633587786259544\n"
          ]
        }
      ]
    },
    {
      "cell_type": "code",
      "source": [
        "from sklearn.metrics import confusion_matrix\n",
        "\n",
        "confusion_matrix(df['actual'], df['pred'])"
      ],
      "metadata": {
        "id": "MEe6vuWdiiBa"
      },
      "execution_count": null,
      "outputs": []
    }
  ]
}